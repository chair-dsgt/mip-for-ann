{
  "cells": [
    {
      "cell_type": "code",
      "metadata": {
        "id": "WLhS1oWKcxGD",
        "colab_type": "code",
        "colab": {}
      },
      "source": [
        "optimizer_list =  ['Adam', 'SGD', 'RMSPROP']\n",
        "learning_rates = ['1e-1', '1e-2', '1e-3', '1e-4','1e-5']\n",
        "dataset_list = ['MNIST', 'FashionMNIST', 'KMNIST', 'Caltech256', 'CIFAR10', 'CIFAR-100', 'TinyImageNet']\n",
        "models_list = ['FullyConnectedBaselineModel', 'FullyConnected2Model', 'Lecun Model 98', 'Dense Fully Connected', 'Lenet', 'vgg7', 'vgg16', 'vgg16nobn', 'vgg19']\n",
        "epochs = 30  #@param {type: \"number\"}\n",
        "n_resets =  3#@param {type: \"number\"}\n",
        "n_sparsification_samples = 10 #@param {type: \"number\"}\n",
        "sparsification_weight =  5#@param {type: \"number\"}\n",
        "learning_rate_name = '1e-3'  #@param ['1e-1', '1e-2', '1e-3', '1e-4','1e-5']\n",
        "optimizer_name = 'RMSPROP'  #@param ['Adam', 'SGD', 'RMSPROP']\n",
        "optimizer = optimizer_list.index(optimizer_name)\n",
        "learning_rate = learning_rates.index(learning_rate_name)\n",
        "batch_size =   128#@param {type: \"number\"}\n",
        "threshold = 0.1  #@param {type: \"number\"}\n",
        "conv_threshold = 0.2  #@param {type: \"number\"}\n",
        "finetuning_epochs =   1#@param {type: \"number\"}\n",
        "\n"
      ],
      "execution_count": 0,
      "outputs": []
    },
    {
      "cell_type": "markdown",
      "metadata": {
        "id": "4mdIf8uaRIbu",
        "colab_type": "text"
      },
      "source": [
        "## Installing Libs and loading code"
      ]
    },
    {
      "cell_type": "code",
      "metadata": {
        "id": "vMvIgms3RJ7F",
        "colab_type": "code",
        "colab": {}
      },
      "source": [
        "!pip install cvxpy\n",
        "!pip3 install Cython\n",
        "!pip install PrettyTable\n",
        "!pip install mosek\n",
        "!pip3 install scipy==1.1.0 \n",
        "!pip3 install  pytorch-lightning\n",
        "!pip3 install guppy3"
      ],
      "execution_count": 0,
      "outputs": []
    },
    {
      "cell_type": "markdown",
      "metadata": {
        "id": "JcxhczVbRhKH",
        "colab_type": "text"
      },
      "source": [
        "Load Mosek License into root/mosek"
      ]
    },
    {
      "cell_type": "code",
      "metadata": {
        "id": "5K3wp7LmReUl",
        "colab_type": "code",
        "colab": {}
      },
      "source": [
        "import os"
      ],
      "execution_count": 0,
      "outputs": []
    },
    {
      "cell_type": "code",
      "metadata": {
        "id": "eFSn5EH9FrcP",
        "colab_type": "code",
        "colab": {}
      },
      "source": [
        "def get_storage_dir(storage_parent_dir, model_name, learning_rate, dataset, epochs, optimizer):\n",
        "    return os.path.join(storage_parent_dir, model_name, 'lr_'+str(\n",
        "        learning_rate), 'epoch_'+str(epochs), 'dataset_'+str(dataset), 'optimizer_'+str(optimizer))\n"
      ],
      "execution_count": 0,
      "outputs": []
    },
    {
      "cell_type": "code",
      "metadata": {
        "id": "obUVLHAaTwAh",
        "colab_type": "code",
        "colab": {}
      },
      "source": [
        "def append_exp_index(parent_path, exp_indx=0):\n",
        "    return os.path.join(parent_path, 'exp_'+str(exp_indx))"
      ],
      "execution_count": 0,
      "outputs": []
    },
    {
      "cell_type": "markdown",
      "metadata": {
        "id": "Uk_AmyeSJHnz",
        "colab_type": "text"
      },
      "source": [
        "## MNIST"
      ]
    },
    {
      "cell_type": "code",
      "metadata": {
        "id": "YwAX81pLdlPc",
        "colab_type": "code",
        "colab": {}
      },
      "source": [
        "dataset_name = 'MNIST'  #@param ['MNIST', 'FashionMNIST', 'KMNIST', 'Caltech256', 'CIFAR10', 'CIFAR-100', 'TinyImageNet']\n",
        "dataset_indx = dataset_list.index(dataset_name)"
      ],
      "execution_count": 0,
      "outputs": []
    },
    {
      "cell_type": "markdown",
      "metadata": {
        "id": "YSejLhqnJZPa",
        "colab_type": "text"
      },
      "source": [
        "#### Lecun Model 98"
      ]
    },
    {
      "cell_type": "code",
      "metadata": {
        "id": "4GNRysajIFMQ",
        "colab_type": "code",
        "colab": {}
      },
      "source": [
        "model_name = 'Lecun Model 98'  #@param ['FullyConnectedBaselineModel', 'FullyConnected2Model', 'Lecun Model 98', 'Dense Fully Connected', 'Lenet', 'vgg19']\n",
        "model_indx = models_list.index(model_name)"
      ],
      "execution_count": 0,
      "outputs": []
    },
    {
      "cell_type": "code",
      "metadata": {
        "id": "HsGdH3rzFhx8",
        "colab_type": "code",
        "colab": {}
      },
      "source": [
        "parent_dir = 'experiments'\n",
        "other_dir_fc3 = get_storage_dir(parent_dir, 'FC3', learning_rate, dataset_indx, epochs, optimizer)"
      ],
      "execution_count": 0,
      "outputs": []
    },
    {
      "cell_type": "code",
      "metadata": {
        "id": "XOSwHfEDRoUS",
        "colab_type": "code",
        "colab": {}
      },
      "source": [
        "!python3 train_model.py -sd experiments -e {epochs} -dl {dataset_indx} -r {n_resets} -m {model_indx} -op {optimizer} -l {learning_rate} -bs {batch_size}"
      ],
      "execution_count": 0,
      "outputs": []
    },
    {
      "cell_type": "code",
      "metadata": {
        "id": "G9gQjC2_SRTs",
        "colab_type": "code",
        "colab": {}
      },
      "source": [
        "!python3 run_sparsify.py -sd experiments -f -e {epochs} -dl {dataset_indx} -r {n_resets} -m {model_indx}   -n {n_sparsification_samples} -op {optimizer} -l {learning_rate} -hm  -bs {batch_size} -tt {threshold} -sw {sparsification_weight} -ft -te {finetuning_epochs} -rl"
      ],
      "execution_count": 0,
      "outputs": []
    },
    {
      "cell_type": "code",
      "metadata": {
        "id": "8niluRkRd9A_",
        "colab_type": "code",
        "colab": {}
      },
      "source": [
        "!python3 verify_selected_data.py -sd experiments -e {epochs} -dl {dataset_indx} -r {n_resets} -m {model_indx} -f -n {n_sparsification_samples}  -sw {sparsification_weight} -tt {threshold} -op {optimizer} -l {learning_rate} -bs {batch_size} -rl"
      ],
      "execution_count": 0,
      "outputs": []
    },
    {
      "cell_type": "code",
      "metadata": {
        "id": "YSOuDGBheIYy",
        "colab_type": "code",
        "colab": {}
      },
      "source": [
        "!python3 plot_different_lambdas.py -sd experiments -e {epochs} -dl {dataset_indx} -r {n_resets} -m {model_indx} -f -n {n_sparsification_samples}  -sw {sparsification_weight} -op {optimizer} -l {learning_rate}  -bs {batch_size} -tt {threshold} -rl"
      ],
      "execution_count": 0,
      "outputs": []
    },
    {
      "cell_type": "markdown",
      "metadata": {
        "id": "uS8ENQfnScnb",
        "colab_type": "text"
      },
      "source": [
        "#### Dense fully connected model"
      ]
    },
    {
      "cell_type": "code",
      "metadata": {
        "colab_type": "code",
        "id": "cEcYkyezJjRR",
        "colab": {}
      },
      "source": [
        "model_name = 'Dense Fully Connected'  #@param ['FullyConnectedBaselineModel', 'FullyConnected2Model', 'Lecun Model 98', 'Dense Fully Connected', 'Lenet', 'vgg19']\n",
        "model_indx = models_list.index(model_name)"
      ],
      "execution_count": 0,
      "outputs": []
    },
    {
      "cell_type": "code",
      "metadata": {
        "id": "F5IQrXnDFy9B",
        "colab_type": "code",
        "colab": {}
      },
      "source": [
        "other_dir_fc4 = get_storage_dir(parent_dir, 'FC4', learning_rate, dataset_indx, epochs, optimizer)"
      ],
      "execution_count": 0,
      "outputs": []
    },
    {
      "cell_type": "code",
      "metadata": {
        "colab_type": "code",
        "id": "ZALdE7_SJjRd",
        "colab": {}
      },
      "source": [
        "!python3 train_model.py -sd experiments -e {epochs} -dl {dataset_indx} -r {n_resets} -m {model_indx} -op {optimizer} -l {learning_rate}  -bs {batch_size}"
      ],
      "execution_count": 0,
      "outputs": []
    },
    {
      "cell_type": "code",
      "metadata": {
        "colab_type": "code",
        "id": "VYGy_0sPJjRg",
        "colab": {}
      },
      "source": [
        "!python3 run_sparsify.py -sd experiments -f -e {epochs} -dl {dataset_indx} -r {n_resets} -m {model_indx}   -n {n_sparsification_samples} -sw {sparsification_weight} -op {optimizer} -l {learning_rate} -hm  -bs {batch_size} -tt {threshold} -ft -te {finetuning_epochs} -rl"
      ],
      "execution_count": 0,
      "outputs": []
    },
    {
      "cell_type": "code",
      "metadata": {
        "colab_type": "code",
        "id": "6Xb4dYQ6JjRi",
        "colab": {}
      },
      "source": [
        "!python3 verify_selected_data.py -sd experiments -e {epochs} -dl {dataset_indx} -r {n_resets} -m {model_indx} -f -n {n_sparsification_samples}  -sw {sparsification_weight} -op {optimizer} -l {learning_rate}  -bs {batch_size} -tt {threshold} -rl"
      ],
      "execution_count": 0,
      "outputs": []
    },
    {
      "cell_type": "code",
      "metadata": {
        "colab_type": "code",
        "id": "oTiF7vOhJjRm",
        "colab": {}
      },
      "source": [
        "!python3 plot_different_lambdas.py -sd experiments -e {epochs} -dl {dataset_indx} -r {n_resets} -m {model_indx} -f -n {n_sparsification_samples}  -sw {sparsification_weight} -op {optimizer} -l {learning_rate}  -bs {batch_size} -tt {threshold} -rl"
      ],
      "execution_count": 0,
      "outputs": []
    },
    {
      "cell_type": "markdown",
      "metadata": {
        "colab_type": "text",
        "id": "2mVf8Y7lKSS3"
      },
      "source": [
        "#### LeNet Conv network"
      ]
    },
    {
      "cell_type": "code",
      "metadata": {
        "colab_type": "code",
        "id": "Dw0vi3U6KSSw",
        "colab": {}
      },
      "source": [
        "model_name = 'Lenet'  #@param ['FullyConnectedBaselineModel', 'FullyConnected2Model', 'Lecun Model 98', 'Dense Fully Connected', 'Lenet', 'vgg19']\n",
        "model_indx = models_list.index(model_name)"
      ],
      "execution_count": 0,
      "outputs": []
    },
    {
      "cell_type": "code",
      "metadata": {
        "id": "_QHSsu-xFkkz",
        "colab_type": "code",
        "colab": {}
      },
      "source": [
        "parent_dir = 'experiments'\n",
        "other_dir_conv = get_storage_dir(parent_dir, 'ConvBaseline', learning_rate, dataset_indx, epochs, optimizer)"
      ],
      "execution_count": 0,
      "outputs": []
    },
    {
      "cell_type": "code",
      "metadata": {
        "colab_type": "code",
        "id": "_eotwamLKSSm",
        "colab": {}
      },
      "source": [
        "!python3 train_model.py -sd experiments -e {epochs} -dl {dataset_indx} -r {n_resets} -m {model_indx} -op {optimizer} -l {learning_rate}  -bs {batch_size}"
      ],
      "execution_count": 0,
      "outputs": []
    },
    {
      "cell_type": "code",
      "metadata": {
        "colab_type": "code",
        "id": "mRkzvVE-KSSc",
        "colab": {}
      },
      "source": [
        "!python3 run_sparsify.py -sd experiments -f  -e {epochs} -dl {dataset_indx} -r {n_resets} -m {model_indx}   -n {n_sparsification_samples} -sw {sparsification_weight} -op {optimizer} -l {learning_rate}  -bs {batch_size} -tt {conv_threshold}  -te {2} -ft  -rl -n 10"
      ],
      "execution_count": 0,
      "outputs": []
    },
    {
      "cell_type": "code",
      "metadata": {
        "id": "p38Fl5OeHzk0",
        "colab_type": "code",
        "colab": {}
      },
      "source": [
        "!python3 batch_data_experiments.py -sd experiments -e {epochs} -dl {dataset_indx} -r {n_resets} -m {model_indx} -f -n {n_sparsification_samples}  -sw {sparsification_weight} -op {optimizer} -l {learning_rate}  -bs {batch_size} -tt {threshold} -rl -nex {10} -bbm -ppexp"
      ],
      "execution_count": 0,
      "outputs": []
    },
    {
      "cell_type": "code",
      "metadata": {
        "id": "1h7pXNhfn6Hp",
        "colab_type": "code",
        "colab": {}
      },
      "source": [
        "!python3 batch_data_experiments.py -sd experiments -e {epochs} -dl {dataset_indx} -r {n_resets} -m {model_indx} -f -n {n_sparsification_samples}  -sw {sparsification_weight} -op {optimizer} -l {learning_rate}  -bs {batch_size} -tt {threshold} -rl -nex {10}"
      ],
      "execution_count": 0,
      "outputs": []
    },
    {
      "cell_type": "code",
      "metadata": {
        "id": "VSiJ1zKqYDQD",
        "colab_type": "code",
        "colab": {}
      },
      "source": [
        "!python3 compress_snip.py -sd experiments -e {epochs} -dl {dataset_indx} -r {n_resets} -m {model_indx} -f -n {n_sparsification_samples}  -sw {sparsification_weight} -op {optimizer} -l {learning_rate}  -bs {batch_size} -tt {threshold} -rl"
      ],
      "execution_count": 0,
      "outputs": []
    },
    {
      "cell_type": "code",
      "metadata": {
        "colab_type": "code",
        "id": "BWagwAm2KSSQ",
        "colab": {}
      },
      "source": [
        "!python3 verify_selected_data.py -sd experiments -e {epochs} -dl {dataset_indx} -r {n_resets} -m {model_indx} -f -n {n_sparsification_samples}  -sw {sparsification_weight} -op {optimizer} -l {learning_rate}  -bs {batch_size} -tt {threshold} -rl"
      ],
      "execution_count": 0,
      "outputs": []
    },
    {
      "cell_type": "code",
      "metadata": {
        "colab_type": "code",
        "id": "Stg3TadvKSSA",
        "colab": {}
      },
      "source": [
        "!python3 plot_different_lambdas.py -sd experiments -e {epochs} -dl {dataset_indx} -r {n_resets} -m {model_indx} -f -n {n_sparsification_samples}  -sw {sparsification_weight} -op {optimizer} -l {learning_rate}  -bs {batch_size} -tt {threshold} -rl"
      ],
      "execution_count": 0,
      "outputs": []
    },
    {
      "cell_type": "code",
      "metadata": {
        "colab_type": "code",
        "id": "ii3Il6EnuCtr",
        "colab": {}
      },
      "source": [
        "!python3 train_sparsify.py -sd train_sparsify  -e {epochs} -dl  {dataset_indx} --model {model_indx} -tt {conv_threshold} -n {n_sparsification_samples} -f -sw {sparsification_weight} -rl  -ent 1 \n",
        "    "
      ],
      "execution_count": 0,
      "outputs": []
    },
    {
      "cell_type": "code",
      "metadata": {
        "colab_type": "code",
        "id": "gMrMUjDCuCtw",
        "colab": {}
      },
      "source": [
        "!python3 train_sparsify.py -sd train_sparsify_incremental  -e {epochs} -dl  {dataset_indx} --model {model_indx} -tt {conv_threshold} -n {n_sparsification_samples} -f -sw {sparsification_weight} -rl  -ent 1  -incr\n",
        " "
      ],
      "execution_count": 0,
      "outputs": []
    },
    {
      "cell_type": "markdown",
      "metadata": {
        "id": "84BykH13jDkd",
        "colab_type": "text"
      },
      "source": [
        "## Fashion MNIST"
      ]
    },
    {
      "cell_type": "code",
      "metadata": {
        "id": "AQu709ARjGiO",
        "colab_type": "code",
        "colab": {}
      },
      "source": [
        "dataset_name = 'FashionMNIST'  #@param ['MNIST', 'FashionMNIST', 'KMNIST', 'Caltech256', 'CIFAR10', 'CIFAR-100', 'TinyImageNet']\n",
        "dataset_indx = dataset_list.index(dataset_name)"
      ],
      "execution_count": 0,
      "outputs": []
    },
    {
      "cell_type": "markdown",
      "metadata": {
        "colab_type": "text",
        "id": "qkUxwkjGjGtC"
      },
      "source": [
        "#### Lecun Model 98"
      ]
    },
    {
      "cell_type": "code",
      "metadata": {
        "colab_type": "code",
        "id": "4per7yB-jGtG",
        "colab": {}
      },
      "source": [
        "model_name = 'Lecun Model 98'  #@param ['FullyConnectedBaselineModel', 'FullyConnected2Model', 'Lecun Model 98', 'Dense Fully Connected', 'Lenet', 'vgg19']\n",
        "model_indx = models_list.index(model_name)"
      ],
      "execution_count": 0,
      "outputs": []
    },
    {
      "cell_type": "code",
      "metadata": {
        "colab_type": "code",
        "id": "clx8TYQVjGtL",
        "colab": {}
      },
      "source": [
        "!python3 train_model.py -sd experiments -e {epochs} -dl {dataset_indx} -r {n_resets} -m {model_indx} -op {optimizer} -l {learning_rate}  -bs {batch_size}"
      ],
      "execution_count": 0,
      "outputs": []
    },
    {
      "cell_type": "code",
      "metadata": {
        "colab_type": "code",
        "id": "239sGukCjGtR",
        "colab": {}
      },
      "source": [
        "!python3 run_sparsify.py -sd experiments -f -e {epochs} -dl {dataset_indx} -r {n_resets} -m {model_indx}   -n {n_sparsification_samples} -sw {sparsification_weight} -op {optimizer} -l {learning_rate} -hm  -bs {batch_size} -tt {threshold} -ft -te {finetuning_epochs} -rl"
      ],
      "execution_count": 0,
      "outputs": []
    },
    {
      "cell_type": "code",
      "metadata": {
        "colab_type": "code",
        "id": "rmuHpUFGjGtU",
        "colab": {}
      },
      "source": [
        "!python3 verify_selected_data.py -sd experiments -e {epochs} -dl {dataset_indx} -r {n_resets} -m {model_indx} -f -n {n_sparsification_samples}  -sw {sparsification_weight} -op {optimizer} -l {learning_rate}  -bs {batch_size} -tt {threshold} -rl"
      ],
      "execution_count": 0,
      "outputs": []
    },
    {
      "cell_type": "code",
      "metadata": {
        "colab_type": "code",
        "id": "9k1RXfRVjGtX",
        "colab": {}
      },
      "source": [
        "!python3 plot_different_lambdas.py -sd experiments -e {epochs} -dl {dataset_indx} -r {n_resets} -m {model_indx} -f -n {n_sparsification_samples}  -sw {sparsification_weight} -op {optimizer} -l {learning_rate} -bs {batch_size} -tt {threshold} -rl"
      ],
      "execution_count": 0,
      "outputs": []
    },
    {
      "cell_type": "markdown",
      "metadata": {
        "id": "m0Tjqds9CwH1",
        "colab_type": "text"
      },
      "source": [
        "##### Generalization from mnist"
      ]
    },
    {
      "cell_type": "code",
      "metadata": {
        "id": "wpHFH4VvUALJ",
        "colab_type": "code",
        "colab": {}
      },
      "source": [
        "!python3 train_model.py -sd experiments_generalization -e {epochs} -dl {dataset_indx} -r {n_resets} -m {model_indx} -op {optimizer} -l {learning_rate}  -bs {batch_size} -rt -omd {other_dir_fc3}"
      ],
      "execution_count": 0,
      "outputs": []
    },
    {
      "cell_type": "markdown",
      "metadata": {
        "colab_type": "text",
        "id": "gnCUY3PHjGtd"
      },
      "source": [
        "#### Dense fully connected model"
      ]
    },
    {
      "cell_type": "code",
      "metadata": {
        "colab_type": "code",
        "id": "UD07XF0djGte",
        "colab": {}
      },
      "source": [
        "model_name = 'Dense Fully Connected'  #@param ['FullyConnectedBaselineModel', 'FullyConnected2Model', 'Lecun Model 98', 'Dense Fully Connected', 'Lenet', 'vgg19']\n",
        "model_indx = models_list.index(model_name)"
      ],
      "execution_count": 0,
      "outputs": []
    },
    {
      "cell_type": "code",
      "metadata": {
        "colab_type": "code",
        "id": "Dp5GJoEYjGth",
        "colab": {}
      },
      "source": [
        "!python3 train_model.py -sd experiments -e {epochs} -dl {dataset_indx} -r {n_resets} -m {model_indx} -op {optimizer} -l {learning_rate}  -bs {batch_size}"
      ],
      "execution_count": 0,
      "outputs": []
    },
    {
      "cell_type": "code",
      "metadata": {
        "colab_type": "code",
        "id": "SbU35dGmjGtk",
        "colab": {}
      },
      "source": [
        "!python3 run_sparsify.py -sd experiments -f -e {epochs} -dl {dataset_indx} -r {n_resets} -m {model_indx}   -n {n_sparsification_samples} -sw {sparsification_weight} -op {optimizer} -l {learning_rate} -hm  -bs {batch_size} -tt {threshold} -ft -te {finetuning_epochs} -rl"
      ],
      "execution_count": 0,
      "outputs": []
    },
    {
      "cell_type": "code",
      "metadata": {
        "colab_type": "code",
        "id": "yttG0h5AjGtm",
        "colab": {}
      },
      "source": [
        "!python3 verify_selected_data.py -sd experiments -e {epochs} -dl {dataset_indx} -r {n_resets} -m {model_indx} -f -n {n_sparsification_samples}  -sw {sparsification_weight} -op {optimizer} -l {learning_rate}  -bs {batch_size} -tt {threshold} -rl"
      ],
      "execution_count": 0,
      "outputs": []
    },
    {
      "cell_type": "code",
      "metadata": {
        "colab_type": "code",
        "id": "gMwehAUbjGtp",
        "colab": {}
      },
      "source": [
        "!python3 plot_different_lambdas.py -sd experiments -e {epochs} -dl {dataset_indx} -r {n_resets} -m {model_indx} -f -n {n_sparsification_samples}  -sw {sparsification_weight} -op {optimizer} -l {learning_rate}  -bs {batch_size} -tt {threshold} -rl"
      ],
      "execution_count": 0,
      "outputs": []
    },
    {
      "cell_type": "markdown",
      "metadata": {
        "colab_type": "text",
        "id": "aKyUOUyfEXsg"
      },
      "source": [
        "##### Generalization from mnist"
      ]
    },
    {
      "cell_type": "code",
      "metadata": {
        "id": "inaj-AV7oFPr",
        "colab_type": "code",
        "colab": {}
      },
      "source": [
        "!python3 train_model.py -sd experiments_generalization -e {epochs} -dl {dataset_indx} -r {n_resets} -m {model_indx} -op {optimizer} -l {learning_rate}  -bs {batch_size} -rt -omd {other_dir_fc4}"
      ],
      "execution_count": 0,
      "outputs": []
    },
    {
      "cell_type": "markdown",
      "metadata": {
        "colab_type": "text",
        "id": "wPqdy6OtjGts"
      },
      "source": [
        "#### LeNet Conv network"
      ]
    },
    {
      "cell_type": "code",
      "metadata": {
        "colab_type": "code",
        "id": "gyaTqCoSjGtt",
        "colab": {}
      },
      "source": [
        "model_name = 'Lenet'  #@param ['FullyConnectedBaselineModel', 'FullyConnected2Model', 'Lecun Model 98', 'Dense Fully Connected', 'Lenet', 'vgg19']\n",
        "model_indx = models_list.index(model_name)"
      ],
      "execution_count": 0,
      "outputs": []
    },
    {
      "cell_type": "code",
      "metadata": {
        "colab_type": "code",
        "id": "L6UTU_NIjGtw",
        "colab": {}
      },
      "source": [
        "!python3 train_model.py -sd experiments -e {epochs} -dl {dataset_indx} -r {n_resets} -m {model_indx} -op {optimizer} -l {learning_rate} -bs {batch_size}"
      ],
      "execution_count": 0,
      "outputs": []
    },
    {
      "cell_type": "code",
      "metadata": {
        "colab_type": "code",
        "id": "gwg_4ymdjGt0",
        "colab": {}
      },
      "source": [
        "!python3 run_sparsify.py -sd experiments -f -e {epochs} -dl {dataset_indx} -r {n_resets} -m {model_indx}   -n {n_sparsification_samples} -sw {sparsification_weight} -op {optimizer} -l {learning_rate} -bs {batch_size} -tt {conv_threshold} -rl  -ft -te {finetuning_epochs}"
      ],
      "execution_count": 0,
      "outputs": []
    },
    {
      "cell_type": "code",
      "metadata": {
        "colab_type": "code",
        "id": "Kj8cZdI4oBWw",
        "colab": {}
      },
      "source": [
        "!python3 batch_data_experiments.py -sd experiments -e {epochs} -dl {dataset_indx} -r {n_resets} -m {model_indx} -f -n {n_sparsification_samples}  -sw {sparsification_weight} -op {optimizer} -l {learning_rate}  -bs {batch_size} -tt {threshold} -rl -nex {10} -bbm -ppexp"
      ],
      "execution_count": 0,
      "outputs": []
    },
    {
      "cell_type": "code",
      "metadata": {
        "colab_type": "code",
        "id": "8qtcTAL0oBW3",
        "colab": {}
      },
      "source": [
        "!python3 batch_data_experiments.py -sd experiments -e {epochs} -dl {dataset_indx} -r {n_resets} -m {model_indx} -f -n {n_sparsification_samples}  -sw {sparsification_weight} -op {optimizer} -l {learning_rate}  -bs {batch_size} -tt {conv_threshold} -rl -nex {10}"
      ],
      "execution_count": 0,
      "outputs": []
    },
    {
      "cell_type": "code",
      "metadata": {
        "id": "Dr8Tf-DaYYzT",
        "colab_type": "code",
        "colab": {}
      },
      "source": [
        "!python3 compress_snip.py -sd experiments -e {epochs} -dl {dataset_indx} -r {n_resets} -m {model_indx} -f -n {n_sparsification_samples}  -sw {1} -op {optimizer} -l {learning_rate}  -bs {batch_size} -tt {conv_threshold}"
      ],
      "execution_count": 0,
      "outputs": []
    },
    {
      "cell_type": "code",
      "metadata": {
        "colab_type": "code",
        "id": "e72fOFFAjGt3",
        "colab": {}
      },
      "source": [
        "!python3 verify_selected_data.py -sd experiments -e {epochs} -dl {dataset_indx} -r {n_resets} -m {model_indx} -f -n {n_sparsification_samples}  -sw {sparsification_weight} -op {optimizer} -l {learning_rate} -bs {batch_size} -tt {conv_threshold} -rl"
      ],
      "execution_count": 0,
      "outputs": []
    },
    {
      "cell_type": "code",
      "metadata": {
        "colab_type": "code",
        "id": "Exsr49ZUjGt7",
        "colab": {}
      },
      "source": [
        "!python3 plot_different_lambdas.py -sd experiments -e {epochs} -dl {dataset_indx} -r {n_resets} -m {model_indx} -f -n {n_sparsification_samples} -op {optimizer} -l {learning_rate} -bs {batch_size} -tt {conv_threshold} -rl"
      ],
      "execution_count": 0,
      "outputs": []
    },
    {
      "cell_type": "code",
      "metadata": {
        "id": "-h4c2rG5teUw",
        "colab_type": "code",
        "colab": {}
      },
      "source": [
        "!python3 train_sparsify.py -sd train_sparsify  -e {epochs} -dl  {dataset_indx} --model {model_indx} -tt {conv_threshold} -n {n_sparsification_samples} -f -sw {sparsification_weight} -rl  -ent 1 \n",
        "    "
      ],
      "execution_count": 0,
      "outputs": []
    },
    {
      "cell_type": "code",
      "metadata": {
        "id": "WsUDCNU5ticN",
        "colab_type": "code",
        "colab": {}
      },
      "source": [
        "!python3 train_sparsify.py -sd train_sparsify_incremental  -e {epochs} -dl  {dataset_indx} --model {model_indx} -tt {conv_threshold} -n {n_sparsification_samples} -f -sw {sparsification_weight} -rl  -ent 1  -incr\n",
        " "
      ],
      "execution_count": 0,
      "outputs": []
    },
    {
      "cell_type": "markdown",
      "metadata": {
        "colab_type": "text",
        "id": "vSl3nyDbEiLx"
      },
      "source": [
        "##### Generalization from mnist"
      ]
    },
    {
      "cell_type": "code",
      "metadata": {
        "id": "61JyRTxvUgav",
        "colab_type": "code",
        "colab": {}
      },
      "source": [
        "!python3 train_model.py -sd experiments_generalization -e {epochs} -dl {dataset_indx} -r {n_resets} -m {model_indx} -op {optimizer} -l {learning_rate}  -bs {batch_size} -rt -omd {other_dir_conv}\n"
      ],
      "execution_count": 0,
      "outputs": []
    },
    {
      "cell_type": "markdown",
      "metadata": {
        "colab_type": "text",
        "id": "5JCm-G9njTx8"
      },
      "source": [
        "## Cifar10"
      ]
    },
    {
      "cell_type": "markdown",
      "metadata": {
        "id": "8XjboKzRALRk",
        "colab_type": "text"
      },
      "source": [
        "### Cifar 10 new params lenet"
      ]
    },
    {
      "cell_type": "code",
      "metadata": {
        "id": "t52s8tTVAKlJ",
        "colab_type": "code",
        "colab": {}
      },
      "source": [
        "epochs = 256  #@param {type: \"number\"}\n",
        "n_resets =  3#@param {type: \"number\"}\n",
        "n_sparsification_samples = 10 #@param {type: \"number\"}\n",
        "sparsification_weight =  5#@param {type: \"number\"}\n",
        "learning_rate_name = '1e-2'  #@param ['1e-1', '1e-2', '1e-3', '1e-4','1e-5']\n",
        "optimizer_name = 'SGD'  #@param ['Adam', 'SGD', 'RMSPROP']\n",
        "optimizer = optimizer_list.index(optimizer_name)\n",
        "learning_rate = learning_rates.index(learning_rate_name)\n",
        "batch_size = 128  #@param {type: \"number\"}\n",
        "threshold = 0.3 #@param {type: \"number\"}"
      ],
      "execution_count": 0,
      "outputs": []
    },
    {
      "cell_type": "code",
      "metadata": {
        "colab_type": "code",
        "id": "rjc60qovjTyA",
        "colab": {}
      },
      "source": [
        "dataset_name = 'CIFAR10'  #@param ['MNIST', 'FashionMNIST', 'KMNIST', 'Caltech256', 'CIFAR10', 'CIFAR-100', 'TinyImageNet']\n",
        "dataset_indx = dataset_list.index(dataset_name)"
      ],
      "execution_count": 0,
      "outputs": []
    },
    {
      "cell_type": "markdown",
      "metadata": {
        "colab_type": "text",
        "id": "LMskDDunjTyE"
      },
      "source": [
        "#### Lenet"
      ]
    },
    {
      "cell_type": "code",
      "metadata": {
        "colab_type": "code",
        "id": "xEW_X9VMjTyF",
        "colab": {}
      },
      "source": [
        "model_name = 'Lenet'  #@param ['FullyConnectedBaselineModel', 'FullyConnected2Model', 'Lecun Model 98', 'Dense Fully Connected', 'Lenet', 'vgg19']\n",
        "model_indx = models_list.index(model_name)"
      ],
      "execution_count": 0,
      "outputs": []
    },
    {
      "cell_type": "code",
      "metadata": {
        "colab_type": "code",
        "id": "ad_E-rMUjTyI",
        "colab": {}
      },
      "source": [
        "!python3 train_model.py -sd experiments -e {epochs} -dl {dataset_indx} -r {n_resets} -m {model_indx} -op {optimizer} -l {learning_rate} -bs {batch_size}"
      ],
      "execution_count": 0,
      "outputs": []
    },
    {
      "cell_type": "code",
      "metadata": {
        "colab_type": "code",
        "id": "-bR5viKajTyN",
        "colab": {}
      },
      "source": [
        "!python3 run_sparsify.py -sd experiments -f -e {epochs} -dl {dataset_indx} -r {n_resets} -m {model_indx}   -n {n_sparsification_samples} -sw {sparsification_weight} -op {optimizer} -l {learning_rate}  -bs {batch_size} -tt {threshold}  -ft -te {finetuning_epochs} -rl"
      ],
      "execution_count": 0,
      "outputs": []
    },
    {
      "cell_type": "code",
      "metadata": {
        "colab_type": "code",
        "id": "OtoBv3ovjTyQ",
        "colab": {}
      },
      "source": [
        "!python3 verify_selected_data.py -sd experiments -e {epochs} -dl {dataset_indx} -r {n_resets} -m {model_indx} -f -n {n_sparsification_samples}  -sw {sparsification_weight} -op {optimizer} -l {learning_rate} -bs {batch_size} -tt {threshold}"
      ],
      "execution_count": 0,
      "outputs": []
    },
    {
      "cell_type": "code",
      "metadata": {
        "colab_type": "code",
        "id": "BdUbh4tSjTyT",
        "colab": {}
      },
      "source": [
        "!python3 plot_different_lambdas.py -sd experiments -e {epochs} -dl {dataset_indx} -r {n_resets} -m {model_indx} -f -n {n_sparsification_samples}  -sw {sparsification_weight} -op {optimizer} -l {learning_rate} -bs {batch_size} -tt {threshold}"
      ],
      "execution_count": 0,
      "outputs": []
    },
    {
      "cell_type": "markdown",
      "metadata": {
        "colab_type": "text",
        "id": "r8DDx1ghFQ3o"
      },
      "source": [
        "##### Generalization from mnist"
      ]
    },
    {
      "cell_type": "code",
      "metadata": {
        "id": "eQAw1eLiUlXG",
        "colab_type": "code",
        "colab": {}
      },
      "source": [
        "!python3 train_model.py -sd experiments_generalization -e {epochs} -dl {dataset_indx} -r {n_resets} -m {model_indx} -op {optimizer} -l 0  -bs {batch_size} -rt -omd {other_dir_conv}"
      ],
      "execution_count": 0,
      "outputs": []
    },
    {
      "cell_type": "markdown",
      "metadata": {
        "id": "WP2KQ-_Mo4rs",
        "colab_type": "text"
      },
      "source": [
        "#### VGG-16"
      ]
    },
    {
      "cell_type": "code",
      "metadata": {
        "id": "955kIl61o7s6",
        "colab_type": "code",
        "colab": {}
      },
      "source": [
        "epochs = 30  #@param {type: \"number\"}\n",
        "n_resets =  3#@param {type: \"number\"}\n",
        "n_sparsification_samples = 10 #@param {type: \"number\"}\n",
        "sparsification_weight =  5#@param {type: \"number\"}\n",
        "learning_rate_name = '1e-1'  #@param ['1e-1', '1e-2', '1e-3', '1e-4','1e-5']\n",
        "optimizer_name = 'SGD'  #@param ['Adam', 'SGD', 'RMSPROP']\n",
        "optimizer = optimizer_list.index(optimizer_name)\n",
        "learning_rate = learning_rates.index(learning_rate_name)\n",
        "batch_size = 128  #@param {type: \"number\"}\n",
        "threshold = 0.3 #@param {type: \"number\"}"
      ],
      "execution_count": 0,
      "outputs": []
    },
    {
      "cell_type": "code",
      "metadata": {
        "id": "kB3LT2ZirvEW",
        "colab_type": "code",
        "colab": {}
      },
      "source": [
        "model_name = 'vgg16'  #@param ['FullyConnectedBaselineModel', 'FullyConnected2Model', 'Lecun Model 98', 'Dense Fully Connected', 'Lenet', 'vgg7', 'vgg16', 'vgg16nobn', 'vgg19']\n",
        "model_indx = models_list.index(model_name)"
      ],
      "execution_count": 0,
      "outputs": []
    },
    {
      "cell_type": "code",
      "metadata": {
        "id": "VO6-V7z8sz2v",
        "colab_type": "code",
        "colab": {}
      },
      "source": [
        "parent_dir = 'experiments'\n",
        "cifar_directory = get_storage_dir(parent_dir, 'VGG16', learning_rate, dataset_indx, epochs, optimizer)"
      ],
      "execution_count": 0,
      "outputs": []
    },
    {
      "cell_type": "code",
      "metadata": {
        "id": "F5pRpsuYsBU5",
        "colab_type": "code",
        "colab": {}
      },
      "source": [
        "!python3 train_model.py -sd experiments -e {epochs} -dl {dataset_indx} -r {n_resets} -m {model_indx} -op {optimizer} -l {learning_rate} -bs {batch_size} -dgl "
      ],
      "execution_count": 0,
      "outputs": []
    },
    {
      "cell_type": "code",
      "metadata": {
        "id": "MPa17zo8sGyd",
        "colab_type": "code",
        "colab": {}
      },
      "source": [
        "!python3 run_sparsify.py -sd experiments -f -e {epochs} -dl {dataset_indx} -r {n_resets} -m {model_indx}   -n {n_sparsification_samples} -sw {sparsification_weight} -op {optimizer} -l {learning_rate}  -bs {batch_size} -tt {threshold}  -ft -te {finetuning_epochs} -rl -dgl "
      ],
      "execution_count": 0,
      "outputs": []
    },
    {
      "cell_type": "markdown",
      "metadata": {
        "id": "zZ-YInkqscMx",
        "colab_type": "text"
      },
      "source": [
        "##### Generalize to mnist and fashion mnist"
      ]
    },
    {
      "cell_type": "code",
      "metadata": {
        "id": "MvBthPLUsfb3",
        "colab_type": "code",
        "colab": {}
      },
      "source": [
        "dataset_name = 'MNIST'  #@param ['MNIST', 'FashionMNIST', 'KMNIST', 'Caltech256', 'CIFAR10', 'CIFAR-100', 'TinyImageNet']\n",
        "dataset_indx = dataset_list.index(dataset_name)"
      ],
      "execution_count": 0,
      "outputs": []
    },
    {
      "cell_type": "code",
      "metadata": {
        "id": "uC7ePfXcsi8G",
        "colab_type": "code",
        "colab": {}
      },
      "source": [
        "!python3 train_model.py -sd experiments -e {epochs} -dl {dataset_indx} -r {n_resets} -m {model_indx} -op {optimizer} -l {learning_rate} -bs {batch_size} -dgl "
      ],
      "execution_count": 0,
      "outputs": []
    },
    {
      "cell_type": "code",
      "metadata": {
        "id": "O_XQsgr_snFD",
        "colab_type": "code",
        "colab": {}
      },
      "source": [
        "!python3 train_model.py -sd experiments_generalization -e {epochs} -dl {dataset_indx} -r {n_resets} -m {model_indx} -op {optimizer} -l {learning_rate}  -bs {batch_size} -rt -omd {cifar_directory}\n"
      ],
      "execution_count": 0,
      "outputs": []
    },
    {
      "cell_type": "code",
      "metadata": {
        "id": "P32V7fCbs_g6",
        "colab_type": "code",
        "colab": {}
      },
      "source": [
        "dataset_name = 'FashionMNIST'  #@param ['MNIST', 'FashionMNIST', 'KMNIST', 'Caltech256', 'CIFAR10', 'CIFAR-100', 'TinyImageNet']\n",
        "dataset_indx = dataset_list.index(dataset_name)"
      ],
      "execution_count": 0,
      "outputs": []
    },
    {
      "cell_type": "code",
      "metadata": {
        "id": "5q3cZjIMtBUN",
        "colab_type": "code",
        "colab": {}
      },
      "source": [
        "!python3 train_model.py -sd experiments -e {epochs} -dl {dataset_indx} -r {n_resets} -m {model_indx} -op {optimizer} -l {learning_rate} -bs {batch_size} -dgl "
      ],
      "execution_count": 0,
      "outputs": []
    },
    {
      "cell_type": "code",
      "metadata": {
        "id": "pgj7yNwStCgN",
        "colab_type": "code",
        "colab": {}
      },
      "source": [
        "!python3 train_model.py -sd experiments_generalization -e {epochs} -dl {dataset_indx} -r {n_resets} -m {model_indx} -op {optimizer} -l {learning_rate}  -bs {batch_size} -rt -omd {cifar_directory}\n"
      ],
      "execution_count": 0,
      "outputs": []
    },
    {
      "cell_type": "markdown",
      "metadata": {
        "id": "BtsrEUlUi80I",
        "colab_type": "text"
      },
      "source": [
        "## Pruning on network initialization"
      ]
    },
    {
      "cell_type": "code",
      "metadata": {
        "id": "kxkB894OjDbW",
        "colab_type": "code",
        "colab": {}
      },
      "source": [
        "optimizer_list =  ['Adam', 'SGD', 'RMSPROP']\n",
        "learning_rates = ['1e-1', '1e-2', '1e-3', '1e-5']\n",
        "dataset_list = ['MNIST', 'FashionMNIST', 'KMNIST', 'Caltech256', 'CIFAR10']\n",
        "models_list = ['FullyConnectedBaselineModel', 'FullyConnected2Model', 'Lecun Model 98', 'Dense Fully Connected', 'Lenet', 'vgg19', 'vgg7']\n",
        "epochs = 20  #@param {type: \"number\"}\n",
        "n_resets =  5#@param {type: \"number\"}\n",
        "n_sparsification_samples =  5#@param {type: \"number\"}\n",
        "sparsification_weight =  1#@param {type: \"number\"}\n",
        "learning_rate_name = '1e-3'  #@param ['1e-1', '1e-2', '1e-3', '1e-5']\n",
        "optimizer_name = 'RMSPROP'  #@param ['Adam', 'SGD', 'RMSPROP']\n",
        "optimizer = optimizer_list.index(optimizer_name)\n",
        "learning_rate = learning_rates.index(learning_rate_name)\n",
        "batch_size =   128#@param {type: \"number\"}\n",
        "threshold = 0.2  #@param {type: \"number\"}\n",
        "\n"
      ],
      "execution_count": 0,
      "outputs": []
    },
    {
      "cell_type": "code",
      "metadata": {
        "id": "L6Dtj3kTjRj2",
        "colab_type": "code",
        "colab": {}
      },
      "source": [
        "model_name = 'Lenet'  #@param ['FullyConnectedBaselineModel', 'FullyConnected2Model', 'Lecun Model 98', 'Dense Fully Connected', 'Lenet', 'vgg19']\n",
        "model_indx = models_list.index(model_name)"
      ],
      "execution_count": 0,
      "outputs": []
    },
    {
      "cell_type": "markdown",
      "metadata": {
        "id": "7VZpIZ30jL0X",
        "colab_type": "text"
      },
      "source": [
        "### Mnist"
      ]
    },
    {
      "cell_type": "code",
      "metadata": {
        "id": "00jY3xXLjO-o",
        "colab_type": "code",
        "colab": {}
      },
      "source": [
        "dataset_name = 'MNIST'  #@param ['MNIST', 'FashionMNIST', 'KMNIST', 'Caltech256', 'CIFAR10']\n",
        "dataset_indx = dataset_list.index(dataset_name)"
      ],
      "execution_count": 0,
      "outputs": []
    },
    {
      "cell_type": "code",
      "metadata": {
        "id": "IRy5XprKmb1Z",
        "colab_type": "code",
        "colab": {}
      },
      "source": [
        "!python3 train_model.py -sd experiments_init_pruning -e {0} -dl {dataset_indx} -r {n_resets} -m {model_indx} -op {optimizer} -l {learning_rate} -bs {batch_size}"
      ],
      "execution_count": 0,
      "outputs": []
    },
    {
      "cell_type": "code",
      "metadata": {
        "id": "bSvvz6xbmeVV",
        "colab_type": "code",
        "colab": {}
      },
      "source": [
        "!python3 run_sparsify.py -sd experiments_init_pruning -f -e {0} -dl {dataset_indx} -r {n_resets} -m {model_indx}   -n {n_sparsification_samples} -sw {sparsification_weight} -op {optimizer} -l {learning_rate} -bs {batch_size} -tt {threshold}  -ft -te {epochs} -rl"
      ],
      "execution_count": 0,
      "outputs": []
    },
    {
      "cell_type": "markdown",
      "metadata": {
        "id": "WsMIRO5FjiX4",
        "colab_type": "text"
      },
      "source": [
        "### Fashion Mnist"
      ]
    },
    {
      "cell_type": "code",
      "metadata": {
        "id": "9MTlg-ISmhkg",
        "colab_type": "code",
        "colab": {}
      },
      "source": [
        "dataset_name = 'FashionMNIST'  #@param ['MNIST', 'FashionMNIST', 'KMNIST', 'Caltech256', 'CIFAR10']\n",
        "dataset_indx = dataset_list.index(dataset_name)"
      ],
      "execution_count": 0,
      "outputs": []
    },
    {
      "cell_type": "code",
      "metadata": {
        "id": "pz7fcVsXmjo7",
        "colab_type": "code",
        "colab": {}
      },
      "source": [
        "!python3 train_model.py -sd experiments_init_pruning -e {0} -dl {dataset_indx} -r {n_resets} -m {model_indx} -op {optimizer} -l {learning_rate} -bs {batch_size}"
      ],
      "execution_count": 0,
      "outputs": []
    },
    {
      "cell_type": "code",
      "metadata": {
        "id": "2cMQ4yiumlgT",
        "colab_type": "code",
        "colab": {}
      },
      "source": [
        "!python3 run_sparsify.py -sd experiments_init_pruning -f -e {0} -dl {dataset_indx} -r {n_resets} -m {model_indx}   -n {n_sparsification_samples} -sw {sparsification_weight} -op {optimizer} -l {learning_rate} -bs {batch_size} -tt {threshold}  -ft -te {epochs} -rl"
      ],
      "execution_count": 0,
      "outputs": []
    }
  ],
  "metadata": {
    "colab": {
      "name": "experiments_notebook.ipynb",
      "provenance": [],
      "collapsed_sections": [
        "YSejLhqnJZPa",
        "uS8ENQfnScnb",
        "BtsrEUlUi80I"
      ],
      "toc_visible": true
    },
    "kernelspec": {
      "name": "python3",
      "display_name": "Python 3"
    },
    "accelerator": "GPU"
  },
  "nbformat": 4,
  "nbformat_minor": 0
}