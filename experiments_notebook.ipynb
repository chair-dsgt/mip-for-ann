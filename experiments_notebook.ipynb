{
  "nbformat": 4,
  "nbformat_minor": 0,
  "metadata": {
    "colab": {
      "name": "mip latest.ipynb",
      "provenance": [],
      "collapsed_sections": [],
      "toc_visible": true
    },
    "kernelspec": {
      "name": "python3",
      "display_name": "Python 3"
    },
    "accelerator": "GPU"
  },
  "cells": [
    {
      "cell_type": "code",
      "execution_count": null,
      "metadata": {},
      "outputs": [],
      "source": [
        "optimizer_list =  ['Adam', 'SGD', 'RMSPROP']\n",
        "learning_rates = ['1e-1', '1e-2', '1e-3', '1e-5']\n",
        "dataset_list = ['MNIST', 'FashionMNIST', 'KMNIST', 'Caltech256', 'CIFAR10']\n",
        "models_list = ['FullyConnectedBaselineModel', 'FullyConnected2Model', 'Lecun Model 98', 'Dense Fully Connected', 'Lenet', 'vgg19', 'vgg7']\n",
        "epochs = 20  #@param {type: \"number\"}\n",
        "n_resets =  5#@param {type: \"number\"}\n",
        "n_sparsification_samples = 10 #@param {type: \"number\"}\n",
        "sparsification_weight =  5#@param {type: \"number\"}\n",
        "learning_rate_name = '1e-3'  #@param ['1e-1', '1e-2', '1e-3', '1e-5']\n",
        "optimizer_name = 'RMSPROP'  #@param ['Adam', 'SGD', 'RMSPROP']\n",
        "optimizer = optimizer_list.index(optimizer_name)\n",
        "learning_rate = learning_rates.index(learning_rate_name)\n",
        "batch_size =   128#@param {type: \"number\"}\n",
        "threshold = 1e-3  #@param {type: \"number\"}\n",
        "conv_threshold = 0.2  #@param {type: \"number\"}\n",
        "finetuning_epochs =   1#@param {type: \"number\"}\n",
        "\n"
      ]
    },
    {
      "cell_type": "code",
      "execution_count": null,
      "metadata": {},
      "outputs": [],
      "source": [
        "parent_dir = 'experiments'\n",
        "parent_dir_generalization = 'experiments_generalization'\n",
        "parent_dir_initialization = 'experiments_init_pruning' # to compare with SNIP"
      ]
    },
    {
      "cell_type": "markdown",
      "execution_count": null,
      "metadata": {
        "colab_type": "text",
        "id": "4mdIf8uaRIbu"
      },
      "outputs": [],
      "source": [
        "## Installing Libs and loading code"
      ]
    },
    {
      "cell_type": "code",
      "execution_count": null,
      "metadata": {},
      "outputs": [],
      "source": [
        "!pip install cvxpy\n",
        "!pip3 install Cython\n",
        "!pip install PrettyTable\n",
        "!pip install mosek\n",
        "!pip3 install scipy==1.1.0 "
      ]
    },
    {
      "cell_type": "markdown",
      "execution_count": null,
      "metadata": {
        "colab_type": "text",
        "id": "JcxhczVbRhKH"
      },
      "outputs": [],
      "source": [
        "### Loading Mosek"
      ]
    },
    {
      "cell_type": "markdown",
      "execution_count": null,
      "metadata": {},
      "outputs": [],
      "source": [
        "Mosek needs a license file located at /root/mosek for ubuntu mosek.lic"
      ]
    },
    {
      "cell_type": "code",
      "execution_count": null,
      "metadata": {},
      "outputs": [],
      "source": [
        "import os\n",
        "def get_storage_dir(storage_parent_dir, model_name, learning_rate, dataset, epochs, optimizer):\n",
        "    return os.path.join(storage_parent_dir, model_name, 'lr_'+str(\n",
        "        learning_rate), 'epoch_'+str(epochs), 'dataset_'+str(dataset), 'optimizer_'+str(optimizer))\n"
      ]
    },
    {
      "cell_type": "code",
      "execution_count": null,
      "metadata": {},
      "outputs": [],
      "source": [
        "def append_exp_index(parent_path, exp_indx=0):\n",
        "    return os.path.join(parent_path, 'exp_'+str(exp_indx))"
      ]
    },
    {
      "cell_type": "markdown",
      "execution_count": null,
      "metadata": {
        "colab_type": "text",
        "id": "Uk_AmyeSJHnz"
      },
      "outputs": [],
      "source": [
        "## MNIST"
      ]
    },
    {
      "cell_type": "code",
      "execution_count": null,
      "metadata": {},
      "outputs": [],
      "source": [
        "dataset_name = 'MNIST'  #@param ['MNIST', 'FashionMNIST', 'KMNIST', 'Caltech256', 'CIFAR10']\n",
        "dataset_indx = dataset_list.index(dataset_name)"
      ]
    },
    {
      "cell_type": "markdown",
      "execution_count": null,
      "metadata": {
        "colab_type": "text",
        "id": "YSejLhqnJZPa"
      },
      "outputs": [],
      "source": [
        "#### Lecun Model 98"
      ]
    },
    {
      "cell_type": "code",
      "execution_count": null,
      "metadata": {},
      "outputs": [],
      "source": [
        "model_name = 'Lecun Model 98'  #@param ['FullyConnectedBaselineModel', 'FullyConnected2Model', 'Lecun Model 98', 'Dense Fully Connected', 'Lenet', 'vgg19']\n",
        "model_indx = models_list.index(model_name)"
      ]
    },
    {
      "cell_type": "code",
      "execution_count": null,
      "metadata": {},
      "outputs": [],
      "source": [
        "other_dir_fc3 = get_storage_dir(parent_dir, 'FC3', learning_rate, dataset_indx, epochs, optimizer)"
      ]
    },
    {
      "cell_type": "code",
      "execution_count": null,
      "metadata": {},
      "outputs": [],
      "source": [
        "!python3 train_model.py -sd {parent_dir} -e {epochs} -dl {dataset_indx} -r {n_resets} -m {model_indx} -op {optimizer} -l {learning_rate} -bs {batch_size}"
      ]
    },
    {
      "cell_type": "code",
      "execution_count": null,
      "metadata": {},
      "outputs": [],
      "source": [
        "!python3 sparsify.py -sd {parent_dir} -f -e {epochs} -dl {dataset_indx} -r {n_resets} -m {model_indx}   -n {n_sparsification_samples} -op {optimizer} -l {learning_rate} -hm  -bs {batch_size} -tt {threshold} -sw {sparsification_weight} -ft -te {finetuning_epochs}"
      ]
    },
    {
      "cell_type": "code",
      "execution_count": null,
      "metadata": {},
      "outputs": [],
      "source": [
        "!python3 verify_selected_data.py -sd {parent_dir} -e {epochs} -dl {dataset_indx} -r {n_resets} -m {model_indx} -f -n {n_sparsification_samples}  -sw {sparsification_weight} -tt {threshold} -op {optimizer} -l {learning_rate} -bs {batch_size}"
      ]
    },
    {
      "cell_type": "code",
      "execution_count": null,
      "metadata": {},
      "outputs": [],
      "source": [
        "!python3 plot_different_lambdas.py -sd {parent_dir} -e {epochs} -dl {dataset_indx} -r {n_resets} -m {model_indx} -f -n {n_sparsification_samples}  -sw {sparsification_weight} -op {optimizer} -l {learning_rate}  -bs {batch_size} -tt {threshold}"
      ]
    },
    {
      "cell_type": "markdown",
      "execution_count": null,
      "metadata": {
        "colab_type": "text",
        "id": "uS8ENQfnScnb"
      },
      "outputs": [],
      "source": [
        "#### Dense fully connected model"
      ]
    },
    {
      "cell_type": "code",
      "execution_count": null,
      "metadata": {},
      "outputs": [],
      "source": [
        "model_name = 'Dense Fully Connected'  #@param ['FullyConnectedBaselineModel', 'FullyConnected2Model', 'Lecun Model 98', 'Dense Fully Connected', 'Lenet', 'vgg19']\n",
        "model_indx = models_list.index(model_name)"
      ]
    },
    {
      "cell_type": "code",
      "execution_count": null,
      "metadata": {},
      "outputs": [],
      "source": [
        "other_dir_fc4 = get_storage_dir(parent_dir, 'FC4', learning_rate, dataset_indx, epochs, optimizer)"
      ]
    },
    {
      "cell_type": "code",
      "execution_count": null,
      "metadata": {},
      "outputs": [],
      "source": [
        "!python3 train_model.py -sd {parent_dir} -e {epochs} -dl {dataset_indx} -r {n_resets} -m {model_indx} -op {optimizer} -l {learning_rate}  -bs {batch_size}"
      ]
    },
    {
      "cell_type": "code",
      "execution_count": null,
      "metadata": {},
      "outputs": [],
      "source": [
        "!python3 sparsify.py -sd {parent_dir} -f -e {epochs} -dl {dataset_indx} -r {n_resets} -m {model_indx}   -n {n_sparsification_samples} -sw {sparsification_weight} -op {optimizer} -l {learning_rate} -hm  -bs {batch_size} -tt {threshold} -ft -te {finetuning_epochs}"
      ]
    },
    {
      "cell_type": "code",
      "execution_count": null,
      "metadata": {},
      "outputs": [],
      "source": [
        "!python3 verify_selected_data.py -sd {parent_dir} -e {epochs} -dl {dataset_indx} -r {n_resets} -m {model_indx} -f -n {n_sparsification_samples}  -sw {sparsification_weight} -op {optimizer} -l {learning_rate}  -bs {batch_size} -tt {threshold}"
      ]
    },
    {
      "cell_type": "code",
      "execution_count": null,
      "metadata": {},
      "outputs": [],
      "source": [
        "!python3 plot_different_lambdas.py -sd {parent_dir} -e {epochs} -dl {dataset_indx} -r {n_resets} -m {model_indx} -f -n {n_sparsification_samples}  -sw {sparsification_weight} -op {optimizer} -l {learning_rate}  -bs {batch_size} -tt {threshold}"
      ]
    },
    {
      "cell_type": "markdown",
      "execution_count": null,
      "metadata": {
        "colab_type": "text",
        "id": "2mVf8Y7lKSS3"
      },
      "outputs": [],
      "source": [
        "#### LeNet Conv network"
      ]
    },
    {
      "cell_type": "code",
      "execution_count": null,
      "metadata": {},
      "outputs": [],
      "source": [
        "model_name = 'Lenet'  #@param ['FullyConnectedBaselineModel', 'FullyConnected2Model', 'Lecun Model 98', 'Dense Fully Connected', 'Lenet', 'vgg19']\n",
        "model_indx = models_list.index(model_name)"
      ]
    },
    {
      "cell_type": "code",
      "execution_count": null,
      "metadata": {},
      "outputs": [],
      "source": [
        "other_dir_conv = get_storage_dir(parent_dir, 'ConvBaseline', learning_rate, dataset_indx, epochs, optimizer)"
      ]
    },
    {
      "cell_type": "code",
      "execution_count": null,
      "metadata": {},
      "outputs": [],
      "source": [
        "!python3 train_model.py -sd {parent_dir} -e {epochs} -dl {dataset_indx} -r {n_resets} -m {model_indx} -op {optimizer} -l {learning_rate}  -bs {batch_size}"
      ]
    },
    {
      "cell_type": "code",
      "execution_count": null,
      "metadata": {},
      "outputs": [],
      "source": [
        "!python3 sparsify.py -sd {parent_dir} -f -e {epochs} -dl {dataset_indx} -r {n_resets} -m {model_indx}   -n {n_sparsification_samples} -sw {sparsification_weight} -op {optimizer} -l {learning_rate}  -bs {batch_size} -tt {conv_threshold} -ft -te {finetuning_epochs}"
      ]
    },
    {
      "cell_type": "code",
      "execution_count": null,
      "metadata": {},
      "outputs": [],
      "source": [
        "!python3 compress_snip.py -sd {parent_dir} -e {epochs} -dl {dataset_indx} -r {n_resets} -m {model_indx} -f -n {n_sparsification_samples}  -sw {sparsification_weight} -op {optimizer} -l {learning_rate}  -bs {batch_size} -tt {threshold}"
      ]
    },
    {
      "cell_type": "code",
      "execution_count": null,
      "metadata": {},
      "outputs": [],
      "source": [
        "!python3 verify_selected_data.py -sd {parent_dir} -e {epochs} -dl {dataset_indx} -r {n_resets} -m {model_indx} -f -n {n_sparsification_samples}  -sw {sparsification_weight} -op {optimizer} -l {learning_rate}  -bs {batch_size} -tt {threshold}"
      ]
    },
    {
      "cell_type": "code",
      "execution_count": null,
      "metadata": {},
      "outputs": [],
      "source": [
        "!python3 plot_different_lambdas.py -sd {parent_dir} -e {epochs} -dl {dataset_indx} -r {n_resets} -m {model_indx} -f -n {n_sparsification_samples}  -sw {sparsification_weight} -op {optimizer} -l {learning_rate}  -bs {batch_size} -tt {threshold}"
      ]
    },
    {
      "cell_type": "markdown",
      "execution_count": null,
      "metadata": {
        "colab_type": "text",
        "id": "84BykH13jDkd"
      },
      "outputs": [],
      "source": [
        "## Fashion MNIST"
      ]
    },
    {
      "cell_type": "code",
      "execution_count": null,
      "metadata": {},
      "outputs": [],
      "source": [
        "dataset_name = 'FashionMNIST'  #@param ['MNIST', 'FashionMNIST', 'KMNIST', 'Caltech256', 'CIFAR10']\n",
        "dataset_indx = dataset_list.index(dataset_name)"
      ]
    },
    {
      "cell_type": "markdown",
      "execution_count": null,
      "metadata": {
        "colab_type": "text",
        "id": "qkUxwkjGjGtC"
      },
      "outputs": [],
      "source": [
        "#### Lecun Model 98"
      ]
    },
    {
      "cell_type": "code",
      "execution_count": null,
      "metadata": {},
      "outputs": [],
      "source": [
        "model_name = 'Lecun Model 98'  #@param ['FullyConnectedBaselineModel', 'FullyConnected2Model', 'Lecun Model 98', 'Dense Fully Connected', 'Lenet', 'vgg19']\n",
        "model_indx = models_list.index(model_name)"
      ]
    },
    {
      "cell_type": "code",
      "execution_count": null,
      "metadata": {},
      "outputs": [],
      "source": [
        "!python3 train_model.py -sd {parent_dir} -e {epochs} -dl {dataset_indx} -r {n_resets} -m {model_indx} -op {optimizer} -l {learning_rate}  -bs {batch_size}"
      ]
    },
    {
      "cell_type": "code",
      "execution_count": null,
      "metadata": {},
      "outputs": [],
      "source": [
        "!python3 sparsify.py -sd {parent_dir} -f -e {epochs} -dl {dataset_indx} -r {n_resets} -m {model_indx}   -n {n_sparsification_samples} -sw {sparsification_weight} -op {optimizer} -l {learning_rate} -hm  -bs {batch_size} -tt {threshold} -ft -te {finetuning_epochs}"
      ]
    },
    {
      "cell_type": "code",
      "execution_count": null,
      "metadata": {},
      "outputs": [],
      "source": [
        "!python3 verify_selected_data.py -sd {parent_dir} -e {epochs} -dl {dataset_indx} -r {n_resets} -m {model_indx} -f -n {n_sparsification_samples}  -sw {sparsification_weight} -op {optimizer} -l {learning_rate}  -bs {batch_size} -tt {threshold}"
      ]
    },
    {
      "cell_type": "code",
      "execution_count": null,
      "metadata": {},
      "outputs": [],
      "source": [
        "!python3 plot_different_lambdas.py -sd {parent_dir} -e {epochs} -dl {dataset_indx} -r {n_resets} -m {model_indx} -f -n {n_sparsification_samples}  -sw {sparsification_weight} -op {optimizer} -l {learning_rate} -bs {batch_size} -tt {threshold}"
      ]
    },
    {
      "cell_type": "markdown",
      "execution_count": null,
      "metadata": {
        "colab_type": "text",
        "id": "m0Tjqds9CwH1"
      },
      "outputs": [],
      "source": [
        "##### Generalization from mnist"
      ]
    },
    {
      "cell_type": "code",
      "execution_count": null,
      "metadata": {},
      "outputs": [],
      "source": [
        "for exp_indx in range(n_resets):\n",
        "    mnist_sparse_dir = append_exp_index(other_dir_fc3,exp_indx)\n",
        "    !python3 train_model.py -sd {parent_dir_generalization} -e {epochs} -dl {dataset_indx} -r {n_resets} -m {model_indx} -op {optimizer} -l {learning_rate}  -bs {batch_size} -rt -omd {mnist_sparse_dir}\n",
        ""
      ]
    },
    {
      "cell_type": "markdown",
      "execution_count": null,
      "metadata": {
        "colab_type": "text",
        "id": "gnCUY3PHjGtd"
      },
      "outputs": [],
      "source": [
        "#### Dense fully connected model"
      ]
    },
    {
      "cell_type": "code",
      "execution_count": null,
      "metadata": {},
      "outputs": [],
      "source": [
        "model_name = 'Dense Fully Connected'  #@param ['FullyConnectedBaselineModel', 'FullyConnected2Model', 'Lecun Model 98', 'Dense Fully Connected', 'Lenet', 'vgg19']\n",
        "model_indx = models_list.index(model_name)"
      ]
    },
    {
      "cell_type": "code",
      "execution_count": null,
      "metadata": {},
      "outputs": [],
      "source": [
        "!python3 train_model.py -sd {parent_dir} -e {epochs} -dl {dataset_indx} -r {n_resets} -m {model_indx} -op {optimizer} -l {learning_rate}  -bs {batch_size}"
      ]
    },
    {
      "cell_type": "code",
      "execution_count": null,
      "metadata": {},
      "outputs": [],
      "source": [
        "!python3 sparsify.py -sd {parent_dir} -f -e {epochs} -dl {dataset_indx} -r {n_resets} -m {model_indx}   -n {n_sparsification_samples} -sw {sparsification_weight} -op {optimizer} -l {learning_rate} -hm  -bs {batch_size} -tt {threshold} -ft -te {finetuning_epochs}"
      ]
    },
    {
      "cell_type": "code",
      "execution_count": null,
      "metadata": {},
      "outputs": [],
      "source": [
        "!python3 verify_selected_data.py -sd {parent_dir} -e {epochs} -dl {dataset_indx} -r {n_resets} -m {model_indx} -f -n {n_sparsification_samples}  -sw {sparsification_weight} -op {optimizer} -l {learning_rate}  -bs {batch_size} -tt {threshold}"
      ]
    },
    {
      "cell_type": "code",
      "execution_count": null,
      "metadata": {},
      "outputs": [],
      "source": [
        "!python3 plot_different_lambdas.py -sd {parent_dir} -e {epochs} -dl {dataset_indx} -r {n_resets} -m {model_indx} -f -n {n_sparsification_samples}  -sw {sparsification_weight} -op {optimizer} -l {learning_rate}  -bs {batch_size} -tt {threshold}"
      ]
    },
    {
      "cell_type": "markdown",
      "execution_count": null,
      "metadata": {
        "colab_type": "text",
        "id": "aKyUOUyfEXsg"
      },
      "outputs": [],
      "source": [
        "##### Generalization from mnist"
      ]
    },
    {
      "cell_type": "code",
      "execution_count": null,
      "metadata": {},
      "outputs": [],
      "source": [
        "for exp_indx in range(n_resets):\n",
        "    mnist_sparse_dir = append_exp_index(other_dir_fc4,exp_indx)\n",
        "    !python3 train_model.py -sd {parent_dir_generalization} -e {epochs} -dl {dataset_indx} -r {n_resets} -m {model_indx} -op {optimizer} -l {learning_rate}  -bs {batch_size} -rt -omd {mnist_sparse_dir}\n",
        ""
      ]
    },
    {
      "cell_type": "markdown",
      "execution_count": null,
      "metadata": {
        "colab_type": "text",
        "id": "wPqdy6OtjGts"
      },
      "outputs": [],
      "source": [
        "#### LeNet Conv network"
      ]
    },
    {
      "cell_type": "code",
      "execution_count": null,
      "metadata": {},
      "outputs": [],
      "source": [
        "model_name = 'Lenet'  #@param ['FullyConnectedBaselineModel', 'FullyConnected2Model', 'Lecun Model 98', 'Dense Fully Connected', 'Lenet', 'vgg19']\n",
        "model_indx = models_list.index(model_name)"
      ]
    },
    {
      "cell_type": "code",
      "execution_count": null,
      "metadata": {},
      "outputs": [],
      "source": [
        "!python3 train_model.py -sd {parent_dir} -e {epochs} -dl {dataset_indx} -r {n_resets} -m {model_indx} -op {optimizer} -l {learning_rate} -bs {batch_size}"
      ]
    },
    {
      "cell_type": "code",
      "execution_count": null,
      "metadata": {},
      "outputs": [],
      "source": [
        "!python3 sparsify.py -sd {parent_dir} -f -e {epochs} -dl {dataset_indx} -r {n_resets} -m {model_indx}   -n {n_sparsification_samples} -sw {sparsification_weight} -op {optimizer} -l {learning_rate} -bs {batch_size} -tt {conv_threshold}  -ft -te {finetuning_epochs}"
      ]
    },
    {
      "cell_type": "code",
      "execution_count": null,
      "metadata": {},
      "outputs": [],
      "source": [
        "!python3 compress_snip.py -sd {parent_dir} -e {epochs} -dl {dataset_indx} -r {n_resets} -m {model_indx} -f -n {n_sparsification_samples}  -sw {1} -op {optimizer} -l {learning_rate}  -bs {batch_size} -tt {threshold}"
      ]
    },
    {
      "cell_type": "code",
      "execution_count": null,
      "metadata": {},
      "outputs": [],
      "source": [
        "!python3 verify_selected_data.py -sd {parent_dir} -e {epochs} -dl {dataset_indx} -r {n_resets} -m {model_indx} -f -n {n_sparsification_samples}  -sw {sparsification_weight} -op {optimizer} -l {learning_rate} -bs {batch_size} -tt {conv_threshold}"
      ]
    },
    {
      "cell_type": "code",
      "execution_count": null,
      "metadata": {},
      "outputs": [],
      "source": [
        "!python3 plot_different_lambdas.py -sd {parent_dir} -e {epochs} -dl {dataset_indx} -r {n_resets} -m {model_indx} -f -n {n_sparsification_samples} -op {optimizer} -l {learning_rate} -bs {batch_size} -tt {0.15}"
      ]
    },
    {
      "cell_type": "markdown",
      "execution_count": null,
      "metadata": {
        "colab_type": "text",
        "id": "vSl3nyDbEiLx"
      },
      "outputs": [],
      "source": [
        "##### Generalization from mnist"
      ]
    },
    {
      "cell_type": "code",
      "execution_count": null,
      "metadata": {},
      "outputs": [],
      "source": [
        "for exp_indx in range(n_resets):\n",
        "    mnist_sparse_dir = append_exp_index(other_dir_conv,exp_indx)\n",
        "    !python3 train_model.py -sd {parent_dir_generalization} -e {epochs} -dl {dataset_indx} -r {n_resets} -m {model_indx} -op {optimizer} -l {learning_rate}  -bs {batch_size} -rt -omd {mnist_sparse_dir}\n",
        ""
      ]
    },
    {
      "cell_type": "markdown",
      "execution_count": null,
      "metadata": {
        "colab_type": "text",
        "id": "5JCm-G9njTx8"
      },
      "outputs": [],
      "source": [
        "## Cifar10"
      ]
    },
    {
      "cell_type": "markdown",
      "execution_count": null,
      "metadata": {
        "colab_type": "text",
        "id": "8XjboKzRALRk"
      },
      "outputs": [],
      "source": [
        "### Cifar 10 new params"
      ]
    },
    {
      "cell_type": "code",
      "execution_count": null,
      "metadata": {},
      "outputs": [],
      "source": [
        "optimizer_list =  ['Adam', 'SGD']\n",
        "learning_rates = ['1e-1', '1e-2', '1e-3', '1e-5']\n",
        "dataset_list = ['MNIST', 'FashionMNIST', 'KMNIST', 'Caltech256', 'CIFAR10']\n",
        "models_list = ['FullyConnectedBaselineModel', 'FullyConnected2Model', 'Lecun Model 98', 'Dense Fully Connected', 'Lenet', 'vgg19', 'vgg7']\n",
        "epochs = 256  #@param {type: \"number\"}\n",
        "n_resets =  5#@param {type: \"number\"}\n",
        "n_sparsification_samples = 10 #@param {type: \"number\"}\n",
        "sparsification_weight =  5#@param {type: \"number\"}\n",
        "learning_rate_name = '1e-2'  #@param ['1e-1', '1e-2', '1e-3', '1e-5']\n",
        "optimizer_name = 'SGD'  #@param ['Adam', 'SGD']\n",
        "optimizer = optimizer_list.index(optimizer_name)\n",
        "learning_rate = learning_rates.index(learning_rate_name)\n",
        "batch_size = 128  #@param {type: \"number\"}\n",
        ""
      ]
    },
    {
      "cell_type": "code",
      "execution_count": null,
      "metadata": {},
      "outputs": [],
      "source": [
        "dataset_name = 'CIFAR10'  #@param ['MNIST', 'FashionMNIST', 'KMNIST', 'Caltech256', 'CIFAR10']\n",
        "dataset_indx = dataset_list.index(dataset_name)"
      ]
    },
    {
      "cell_type": "markdown",
      "execution_count": null,
      "metadata": {
        "colab_type": "text",
        "id": "LMskDDunjTyE"
      },
      "outputs": [],
      "source": [
        "#### Lenet"
      ]
    },
    {
      "cell_type": "code",
      "execution_count": null,
      "metadata": {},
      "outputs": [],
      "source": [
        "model_name = 'Lenet'  #@param ['FullyConnectedBaselineModel', 'FullyConnected2Model', 'Lecun Model 98', 'Dense Fully Connected', 'Lenet', 'vgg19']\n",
        "model_indx = models_list.index(model_name)"
      ]
    },
    {
      "cell_type": "code",
      "execution_count": null,
      "metadata": {},
      "outputs": [],
      "source": [
        "!python3 train_model.py -sd {parent_dir} -e {epochs} -dl {dataset_indx} -r {n_resets} -m {model_indx} -op {optimizer} -l {learning_rate} -bs {batch_size}"
      ]
    },
    {
      "cell_type": "code",
      "execution_count": null,
      "metadata": {},
      "outputs": [],
      "source": [
        "!python3 sparsify.py -sd {parent_dir} -f -e {epochs} -dl {dataset_indx} -r {n_resets} -m {model_indx}   -n {n_sparsification_samples} -sw {sparsification_weight} -op {optimizer} -l {learning_rate}  -bs {batch_size} -tt {0.35}  -ft -te {finetuning_epochs} -rl"
      ]
    },
    {
      "cell_type": "code",
      "execution_count": null,
      "metadata": {},
      "outputs": [],
      "source": [
        "!python3 verify_selected_data.py -sd {parent_dir} -e {epochs} -dl {dataset_indx} -r {n_resets} -m {model_indx} -f -n {n_sparsification_samples}  -sw {sparsification_weight} -op {optimizer} -l {learning_rate} -bs {batch_size} -tt {threshold}"
      ]
    },
    {
      "cell_type": "code",
      "execution_count": null,
      "metadata": {},
      "outputs": [],
      "source": [
        "!python3 plot_different_lambdas.py -sd {parent_dir} -e {epochs} -dl {dataset_indx} -r {n_resets} -m {model_indx} -f -n {n_sparsification_samples}  -sw {sparsification_weight} -op {optimizer} -l {learning_rate} -bs {batch_size} -tt {threshold}"
      ]
    },
    {
      "cell_type": "markdown",
      "execution_count": null,
      "metadata": {
        "colab_type": "text",
        "id": "r8DDx1ghFQ3o"
      },
      "outputs": [],
      "source": [
        "##### Generalization from mnist"
      ]
    },
    {
      "cell_type": "code",
      "execution_count": null,
      "metadata": {},
      "outputs": [],
      "source": [
        "for exp_indx in range(n_resets):\n",
        "    mnist_sparse_dir = append_exp_index(other_dir_conv,exp_indx)\n",
        "    !python3 train_model.py -sd {parent_dir_generalization} -e {epochs} -dl {dataset_indx} -r {n_resets} -m {model_indx} -op {optimizer} -l 0  -bs {batch_size} -rt -omd {mnist_sparse_dir}"
      ]
    },
    {
      "cell_type": "markdown",
      "execution_count": null,
      "metadata": {
        "colab_type": "text",
        "id": "BtsrEUlUi80I"
      },
      "outputs": [],
      "source": [
        "## Pruning on network initialization\n",
        "Used to compare with SNIP"
      ]
    },
    {
      "cell_type": "code",
      "execution_count": null,
      "metadata": {},
      "outputs": [],
      "source": [
        "optimizer_list =  ['Adam', 'SGD', 'RMSPROP']\n",
        "learning_rates = ['1e-1', '1e-2', '1e-3', '1e-5']\n",
        "dataset_list = ['MNIST', 'FashionMNIST', 'KMNIST', 'Caltech256', 'CIFAR10']\n",
        "models_list = ['FullyConnectedBaselineModel', 'FullyConnected2Model', 'Lecun Model 98', 'Dense Fully Connected', 'Lenet', 'vgg19', 'vgg7']\n",
        "epochs = 20  #@param {type: \"number\"}\n",
        "n_resets =  5#@param {type: \"number\"}\n",
        "n_sparsification_samples =  5#@param {type: \"number\"}\n",
        "sparsification_weight =  100#@param {type: \"number\"}\n",
        "learning_rate_name = '1e-3'  #@param ['1e-1', '1e-2', '1e-3', '1e-5']\n",
        "optimizer_name = 'RMSPROP'  #@param ['Adam', 'SGD', 'RMSPROP']\n",
        "optimizer = optimizer_list.index(optimizer_name)\n",
        "learning_rate = learning_rates.index(learning_rate_name)\n",
        "batch_size =   128#@param {type: \"number\"}\n",
        "threshold = 0.2  #@param {type: \"number\"}\n",
        "\n",
        ""
      ]
    },
    {
      "cell_type": "code",
      "execution_count": null,
      "metadata": {},
      "outputs": [],
      "source": [
        "model_name = 'Lenet'  #@param ['FullyConnectedBaselineModel', 'FullyConnected2Model', 'Lecun Model 98', 'Dense Fully Connected', 'Lenet', 'vgg19']\n",
        "model_indx = models_list.index(model_name)"
      ]
    },
    {
      "cell_type": "markdown",
      "execution_count": null,
      "metadata": {
        "colab_type": "text",
        "id": "7VZpIZ30jL0X"
      },
      "outputs": [],
      "source": [
        "### Mnist"
      ]
    },
    {
      "cell_type": "code",
      "execution_count": null,
      "metadata": {},
      "outputs": [],
      "source": [
        "dataset_name = 'MNIST'  #@param ['MNIST', 'FashionMNIST', 'KMNIST', 'Caltech256', 'CIFAR10']\n",
        "dataset_indx = dataset_list.index(dataset_name)"
      ]
    },
    {
      "cell_type": "code",
      "execution_count": null,
      "metadata": {},
      "outputs": [],
      "source": [
        "!python3 train_model.py -sd {parent_dir_initialization} -e {0} -dl {dataset_indx} -r {n_resets} -m {model_indx} -op {optimizer} -l {learning_rate} -bs {batch_size}"
      ]
    },
    {
      "cell_type": "code",
      "execution_count": null,
      "metadata": {},
      "outputs": [],
      "source": [
        "!python3 sparsify.py -sd {parent_dir_initialization} -f -e {0} -dl {dataset_indx} -r {n_resets} -m {model_indx}   -n {n_sparsification_samples} -sw {sparsification_weight} -op {optimizer} -l {learning_rate} -bs {batch_size} -tt {threshold}  -ft -te {epochs}"
      ]
    },
    {
      "cell_type": "markdown",
      "execution_count": null,
      "metadata": {
        "colab_type": "text",
        "id": "WsMIRO5FjiX4"
      },
      "outputs": [],
      "source": [
        "### Fashion Mnist"
      ]
    },
    {
      "cell_type": "code",
      "execution_count": null,
      "metadata": {},
      "outputs": [],
      "source": [
        "dataset_name = 'FashionMNIST'  #@param ['MNIST', 'FashionMNIST', 'KMNIST', 'Caltech256', 'CIFAR10']\n",
        "dataset_indx = dataset_list.index(dataset_name)"
      ]
    },
    {
      "cell_type": "code",
      "execution_count": null,
      "metadata": {},
      "outputs": [],
      "source": [
        "!python3 train_model.py -sd {parent_dir_initialization} -e {0} -dl {dataset_indx} -r {n_resets} -m {model_indx} -op {optimizer} -l {learning_rate} -bs {batch_size}"
      ]
    },
    {
      "cell_type": "code",
      "execution_count": null,
      "metadata": {},
      "outputs": [],
      "source": [
        "!python3 sparsify.py -sd {parent_dir_initialization} -f -e {0} -dl {dataset_indx} -r {n_resets} -m {model_indx}   -n {n_sparsification_samples} -sw {sparsification_weight} -op {optimizer} -l {learning_rate} -bs {batch_size} -tt {threshold}  -ft -te {epochs}"
      ]
    }
  ]
}